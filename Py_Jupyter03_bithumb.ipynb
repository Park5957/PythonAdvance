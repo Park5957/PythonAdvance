{
 "cells": [
  {
   "cell_type": "code",
   "execution_count": 1,
   "id": "8b5df1e3",
   "metadata": {},
   "outputs": [],
   "source": [
    "#Building NFT\n",
    "import sys #하드웨어 접근모듈\n",
    "from PyQt5.QtWidgets import * #파이큐티 관련모듈\n",
    "from PyQt5 import uic #UI 관련모듈\n",
    "import pybithumb"
   ]
  },
  {
   "cell_type": "code",
   "execution_count": 2,
   "id": "37a2435c",
   "metadata": {},
   "outputs": [
    {
     "data": {
      "text/plain": [
       "0"
      ]
     },
     "execution_count": 2,
     "metadata": {},
     "output_type": "execute_result"
    }
   ],
   "source": [
    "form_class = uic.loadUiType(\"Py_Jupyter03_bithumb.ui\")[0]\n",
    "tickers = [\"BTC\",\"ETH\",\"XRP\",\"ADA\"] # 조회를 원하는 BC 의 리스트를 생성\n",
    "\n",
    "class Mywindow(QMainWindow,form_class): #MyWindow 클래스를 상속 받아서 작성\n",
    "    def __init__(self):                 #생성자로 창 생성\n",
    "        super().__init__()               # 부모의 생성자를 이용\n",
    "        self.setupUi(self)               # ui 창을 생성\n",
    "        self.pushButton.clicked.connect(self.bnk_clicked)  #버튼 클릭시 연결되는 매서드 정의\n",
    "        \n",
    "    def bnk_clicked(self):\n",
    "        for i,ticker in enumerate(tickers): #tickers 의 내용을 넘버링과 함께 각각 넘김\n",
    "            item = QTableWidgetItem(ticker)\n",
    "            self.tableWidget.setItem(i,0,item)\n",
    "            \n",
    "            price = QTableWidgetItem(str(pybithumb.get_current_price(ticker)))\n",
    "            self.tableWidget.setItem(i,1,price)\n",
    "        \n",
    "        \n",
    "        \n",
    "app = QApplication(sys.argv)             # 파이썬은 원래 인터프리터 -> 한줄씩 실행후 종료\n",
    "window = Mywindow()                      # 윈도우 클래스로 객체 생성\n",
    "window.show()                            # 생성한 객체를 통해 창을 보여주는\n",
    "app.exec_()   "
   ]
  },
  {
   "cell_type": "code",
   "execution_count": null,
   "id": "b7711818",
   "metadata": {},
   "outputs": [],
   "source": []
  }
 ],
 "metadata": {
  "kernelspec": {
   "display_name": "Python 3 (ipykernel)",
   "language": "python",
   "name": "python3"
  },
  "language_info": {
   "codemirror_mode": {
    "name": "ipython",
    "version": 3
   },
   "file_extension": ".py",
   "mimetype": "text/x-python",
   "name": "python",
   "nbconvert_exporter": "python",
   "pygments_lexer": "ipython3",
   "version": "3.9.7"
  }
 },
 "nbformat": 4,
 "nbformat_minor": 5
}
